{
  "nbformat": 4,
  "nbformat_minor": 0,
  "metadata": {
    "colab": {
      "provenance": []
    },
    "kernelspec": {
      "name": "python3",
      "display_name": "Python 3"
    },
    "language_info": {
      "name": "python"
    }
  },
  "cells": [
    {
      "cell_type": "markdown",
      "source": [
        "Data Types and Structure\n"
      ],
      "metadata": {
        "id": "S8pKSlsccQJW"
      }
    },
    {
      "cell_type": "code",
      "execution_count": null,
      "metadata": {
        "id": "NkKjYUq8bVgO"
      },
      "outputs": [],
      "source": [
        "# What are data structures, and why are they important?\n",
        "\"\"\"\n",
        "Data structures is a way of organizing, storing and managing data so that it can be easily accessable and manipulated efficiently.\n",
        "It is important because it's efficiency for operations, for better uses of memory, scalebility of the data etc.\n",
        "\"\"\"\n",
        "# Explain the difference between mutable and immutable data types with examples.\n",
        "\"\"\"\n",
        "Mutable data type means whose data types can be modified or changed after creating, in the same memory location data can be changed. ex-list, dictionary, sets.\n",
        "Immutable data type means whose data types can't be modified or changed after creating, in the same memory location data can't be changed. ex-int, float, string, tuples.\n",
        "example=\n",
        "list = [5, 7.6, true, \"Ayan\"]\n",
        "list[-1] = \"Ajay\"\n",
        "list.append(\"mondal\")\n",
        "list.remove(7.6)\n",
        "print(list)\n",
        "output= [5, true, 'Ajay', 'mondal']\n",
        "\n",
        "s = \"pwskills\"\n",
        "s[-1] = \"a\"\n",
        "print(s)\n",
        "output= TypeError: 'str' object does not support item assignment\n",
        "\"\"\"\n",
        "# What are the main differences between lists and tuples in Python?\n",
        "\"\"\"\n",
        "List is mutable data types but tuples is immutable data types.\n",
        "syntax of list is square brackets[] and tuples is paranthesis().\n",
        "\"\"\"\n",
        "# Describe how dictionaries store data.\n",
        "\"\"\"\n",
        "Dictionary is a data structure that stores data in key-value pairs where keys are unique & immutable and values can be of any data type & mutable.\n",
        "example=\n",
        "dict = {\"name\": \"Ayan\", \"email\": \"ayanmondal@gmail.com\", \"age\": 20}\n",
        "print(dict)\n",
        "output= {'name': 'Ayan', 'email': 'ayanmondal@gmail.com', 'age': 20}\n",
        "here name, email, age are keys and Ayan, ayanmondal@gmail.com, 20 are values.\n",
        "\"\"\"\n",
        "# Why might you use a set instead of a list in Python?\n",
        "\"\"\"\n",
        "Sets are unordered and unique collection of element, does not allow duplicate elements. Sets have multiple operations like union, intersection, differences etc.\n",
        "list is ordered collection of data and allows duplicate elements. If we compare two list then we use loop operation list does not have membership operations like sets.\n",
        "\"\"\"\n",
        "# What is a string in Python, and how is it different from a list?\n",
        "\"\"\"\n",
        "String is a sequence of characters that represent manipulate textual data. string always written inside the \"\" or ''.\n",
        "String is immutable data type and list is mutable data types.\n",
        "\"\"\"\n",
        "# How do tuples ensure data integrity in Python?\n",
        "\"\"\"\n",
        "Tuples ensure data integrity because they are immutable, hashable and reliable container for fixed set of values. it provides stable storage for critical data.\n",
        "\"\"\"\n",
        "# What is a hash table, and how does it relate to dictionaries in Python?\n",
        "\"\"\"\n",
        "A hash table is a data structure that stores key value pair and allows fast access, insertion, deletion process. It uses a hash function to convert a key into a numeric value called hash code this hash code decides the index where the value can be stored in memory.\n",
        "Dictionary also stored data in key value pair like hash table.\n",
        "\"\"\"\n",
        "# Can lists contain different data types in Python?\n",
        "\"\"\"\n",
        "Yes, list can store any kind of data. It is mutable. It can store int, float, complex number, string, boolean values, list, set etc.\n",
        "\"\"\"\n",
        "# Explain why strings are immutable in Python.\n",
        "\"\"\"\n",
        "In python, strings are immutable which means once a string created it cannot be changed or modified in memory because it ensure memory efficiency,hashabilityand predictabiliy.\n",
        "If strings were mutable, every small changes affect the multiple variables pointing to the same string in memory.\n",
        "\"\"\"\n",
        "# What advantages do dictionaries offer over lists for certain tasks?\n",
        "\"\"\"\n",
        "Dictionaries are bettr when we need fast lookup,structured data(key-value pair), uniqueness of keys and clear relationships.\n",
        "List are better when oder matters and we only need simple sequential data.\n",
        "\"\"\"\n",
        "# Describe a scenario where using a tuple would be preferable over a list.\n",
        "\"\"\"\n",
        "Tuple is immutable data structure but list is mutable data structure, both can store any kind of data. but there is some scenario were we preffered tuple over list like if we stored data that should never be change. ex- days of week, month of year, aadhar id no. , Driving lisence no. etc\n",
        "Also in dictionary tuple used as key but list use as vaule because we know in dict. keys are immutable and values are mutable.\n",
        "\"\"\"\n",
        "# How do sets handle duplicate values in Python?\n",
        "\"\"\"\n",
        "Sets in pyhton do not allow duplicates if we insert the same element multiple times it can store only one copy of that element.\n",
        "Because sets are implemented using a hash table and each element's hash must be unique.\n",
        "my_set = {1, 2, 2, 3, 4, 5, 5, 5, 6, 6,}\n",
        "print(my_set)\n",
        "the output is {1, 2, 3, 4, 5, 6}\n",
        "\"\"\"\n",
        "#  How does the “in” keyword work differently for lists and dictionaries?\n",
        "\"\"\"\n",
        "\"in keywords is used in python as membership operator.\n",
        "For lists \"in\" operator checks a value is present in the list or not\n",
        "ex-\n",
        "my_list = [1, 2, 3.5, 76]\n",
        "print(76 in my_list)\n",
        "the output is true\n",
        "For dictionaries \"in operator checks only keys are present in the dict. or not, does not check values present or not.\n",
        "\"\"\"\n",
        "# Can you modify the elements of a tuple? Explain why or why not\n",
        "\"\"\"\n",
        "No we cannot modify the elements of tuple in python because tuple is immutable it its created it canont be change.\n",
        "\"\"\"\n",
        "# What is a nested dictionary, and give an example of its use case?\n",
        "\"\"\"\n",
        "A nested dictionary in python means a dictionary inside another dictionary. It's a way of storing data in hierarchical structure. A nested dictionary  is used we want to represent complex data with multiple levels\n",
        "example=\n",
        "employee_name = {\"name\": \"Ayan\":{\"emp id\":1234, \"dept\":\"data analytics\", \"salary\":30000}, \"Ajay\":{\"emp id\":5678, \"dept\":\"data science\", \"salary\":40000}, \"Amit\":{\"emp id\":9123, \"dept\":\"backend\", \"salary\":50000}}\n",
        "\"\"\"\n",
        "#  Describe the time complexity of accessing elements in a dictionary.\n",
        "\"\"\"\n",
        "\"\"\"\n",
        "# In what situations are lists preferred over dictionaries?\n",
        "\"\"\"\n",
        "1. When order matters\n",
        "2. When we only need simple values and data size is small\n",
        "3. When duplicate values are allowed\n",
        "4. When index based access needed\n",
        "\"\"\"\n",
        "# Why are dictionaries considered unordered, and how does that affect data retrieval?\n",
        "\"\"\"\n",
        "Because dictionaries are implemented using hash table, data stored in dict. based on their hash values not positions.\n",
        "Data retrieval is by key only not by indexing, lookup is fast and key based it is independent of order.\n",
        "\"\"\""
      ]
    },
    {
      "cell_type": "code",
      "source": [
        "# Write a code to create a string with your name and print it.\n",
        "name = input(\"Enter your name:\")\n",
        "print(\"Hello\", name)"
      ],
      "metadata": {
        "colab": {
          "base_uri": "https://localhost:8080/"
        },
        "id": "JX1uFJ5Eq70-",
        "outputId": "19bc8b51-a1b6-4445-c6d3-c483305ca616"
      },
      "execution_count": null,
      "outputs": [
        {
          "output_type": "stream",
          "name": "stdout",
          "text": [
            "Enter your name:Ayan\n",
            "Hello Ayan\n"
          ]
        }
      ]
    },
    {
      "cell_type": "code",
      "source": [
        "# Write a code to find the length of the string \"Hello World\".\n",
        "s = \"Hello World\"\n",
        "print(\"length is:\", len(s))"
      ],
      "metadata": {
        "colab": {
          "base_uri": "https://localhost:8080/"
        },
        "id": "yzbkEx-orlz4",
        "outputId": "1ec1e3ab-838c-49fc-967c-efdd8b8c8c4b"
      },
      "execution_count": null,
      "outputs": [
        {
          "output_type": "stream",
          "name": "stdout",
          "text": [
            "length is: 11\n"
          ]
        }
      ]
    },
    {
      "cell_type": "code",
      "source": [
        "#Write a code to slice the first 3 characters from the string \"Python Programming\".\n",
        "m = \"Python Programming\"\n",
        "print(\"first 3 characters are:\", m[0:3])"
      ],
      "metadata": {
        "colab": {
          "base_uri": "https://localhost:8080/"
        },
        "id": "laZRO1LssMYL",
        "outputId": "cad30e61-7c88-4046-ac29-87f5af1ff026"
      },
      "execution_count": null,
      "outputs": [
        {
          "output_type": "stream",
          "name": "stdout",
          "text": [
            "first 3 characters are: Pyt\n"
          ]
        }
      ]
    },
    {
      "cell_type": "code",
      "source": [
        "# Write a code to convert the string \"hello\" to uppercase.\n",
        "word = \"hello\"\n",
        "print(\"word in uppercase:\", word.upper())"
      ],
      "metadata": {
        "colab": {
          "base_uri": "https://localhost:8080/"
        },
        "id": "2gzDz84Js7PO",
        "outputId": "b964abd6-8049-421b-b04e-8bba21bcbb13"
      },
      "execution_count": null,
      "outputs": [
        {
          "output_type": "stream",
          "name": "stdout",
          "text": [
            "word in uppercase: HELLO\n"
          ]
        }
      ]
    },
    {
      "cell_type": "code",
      "source": [
        "# Write a code to replace the word \"apple\" with \"orange\" in the string \"I like apple\".\n",
        "z = \"I like apple\"\n",
        "z = z.replace(\"apple\", \"orange\")\n",
        "print(z)"
      ],
      "metadata": {
        "colab": {
          "base_uri": "https://localhost:8080/"
        },
        "id": "8oXSuUJetem1",
        "outputId": "1c053c17-04d5-427d-f2ef-bf5120869acc"
      },
      "execution_count": null,
      "outputs": [
        {
          "output_type": "stream",
          "name": "stdout",
          "text": [
            "I like orange\n"
          ]
        }
      ]
    },
    {
      "cell_type": "code",
      "source": [
        "# Write a code to create a list with numbers 1 to 5 and print it.\n",
        "numbers = [1, 2, 3, 4, 5]\n",
        "print(numbers)"
      ],
      "metadata": {
        "colab": {
          "base_uri": "https://localhost:8080/"
        },
        "id": "qMWQAzK4uhqv",
        "outputId": "080b4ed6-1e4c-4391-91c8-4eacd61dd77d"
      },
      "execution_count": null,
      "outputs": [
        {
          "output_type": "stream",
          "name": "stdout",
          "text": [
            "[1, 2, 3, 4, 5]\n"
          ]
        }
      ]
    },
    {
      "cell_type": "code",
      "source": [
        "# Write a code to append the number 10 to the list [1, 2, 3, 4].\n",
        "l = [1, 2, 3, 4]\n",
        "l.append(10)\n",
        "print(l)"
      ],
      "metadata": {
        "colab": {
          "base_uri": "https://localhost:8080/"
        },
        "id": "gvV7sA3Xu_NG",
        "outputId": "76a22573-ecbe-4bbc-a306-73f04090d839"
      },
      "execution_count": null,
      "outputs": [
        {
          "output_type": "stream",
          "name": "stdout",
          "text": [
            "[1, 2, 3, 4, 10]\n"
          ]
        }
      ]
    },
    {
      "cell_type": "code",
      "source": [
        "#  Write a code to remove the number 3 from the list [1, 2, 3, 4, 5].\n",
        "list = [1, 2, 3, 4, 5]\n",
        "list.remove(3)\n",
        "print(list)"
      ],
      "metadata": {
        "colab": {
          "base_uri": "https://localhost:8080/"
        },
        "id": "UOu33oSpv5yf",
        "outputId": "20deaef6-321e-46a9-919e-28c3983b537e"
      },
      "execution_count": null,
      "outputs": [
        {
          "output_type": "stream",
          "name": "stdout",
          "text": [
            "[1, 2, 4, 5]\n"
          ]
        }
      ]
    },
    {
      "cell_type": "code",
      "source": [
        "#Write a code to access the second element in the list ['a', 'b', 'c', 'd'].\n",
        "list = ['a', 'b', 'c', 'd']\n",
        "a = list[1]\n",
        "print(a)"
      ],
      "metadata": {
        "colab": {
          "base_uri": "https://localhost:8080/"
        },
        "id": "XCGDLXA4wM-c",
        "outputId": "ff36a937-6f05-4b59-bc8d-05b9975e2b9f"
      },
      "execution_count": null,
      "outputs": [
        {
          "output_type": "stream",
          "name": "stdout",
          "text": [
            "b\n"
          ]
        }
      ]
    },
    {
      "cell_type": "code",
      "source": [
        "# Write a code to reverse the list [10, 20, 30, 40, 50].\n",
        "list = [10, 20, 30, 40, 50]\n",
        "list.reverse()\n",
        "print(list)"
      ],
      "metadata": {
        "colab": {
          "base_uri": "https://localhost:8080/"
        },
        "id": "zTW2xIdNwshk",
        "outputId": "f1077efe-b47e-49c2-8c87-e59b8064c88a"
      },
      "execution_count": null,
      "outputs": [
        {
          "output_type": "stream",
          "name": "stdout",
          "text": [
            "[50, 40, 30, 20, 10]\n"
          ]
        }
      ]
    },
    {
      "cell_type": "code",
      "source": [
        " # Write a code to create a tuple with the elements 100, 200, 300 and print it.\n",
        " t = (100, 200, 300)\n",
        " type(t)\n",
        " print(t)"
      ],
      "metadata": {
        "colab": {
          "base_uri": "https://localhost:8080/"
        },
        "id": "lDuEyfUCy_0Z",
        "outputId": "ba2a91d0-ae7c-41ef-ba83-63a595a8bc80"
      },
      "execution_count": null,
      "outputs": [
        {
          "output_type": "stream",
          "name": "stdout",
          "text": [
            "(100, 200, 300)\n"
          ]
        }
      ]
    },
    {
      "cell_type": "code",
      "source": [
        "# Write a code to access the second-to-last element of the tuple ('red', 'green', 'blue', 'yellow').\n",
        "t_1 = ('red', 'green', 'blue', 'yellow')\n",
        "print(\"The second to last element is:\", t_1[-2])"
      ],
      "metadata": {
        "colab": {
          "base_uri": "https://localhost:8080/"
        },
        "id": "Ip3q4u4tzmYR",
        "outputId": "2f5a37ba-72b5-4799-9dcb-af6aa0315df8"
      },
      "execution_count": null,
      "outputs": [
        {
          "output_type": "stream",
          "name": "stdout",
          "text": [
            "The second to last element is: blue\n"
          ]
        }
      ]
    },
    {
      "cell_type": "code",
      "source": [
        "# Write a code to find the minimum number in the tuple (10, 20, 5, 15).\n",
        "t2 = (10, 20, 5, 15)\n",
        "min_num = min(t2)\n",
        "print(\"Minimum number is:\", min_num)"
      ],
      "metadata": {
        "colab": {
          "base_uri": "https://localhost:8080/"
        },
        "id": "C69TaprT0GAH",
        "outputId": "a30b86a8-075e-46d1-eb03-d4f245fcbd13"
      },
      "execution_count": null,
      "outputs": [
        {
          "output_type": "stream",
          "name": "stdout",
          "text": [
            "Minimum number is: 5\n"
          ]
        }
      ]
    },
    {
      "cell_type": "code",
      "source": [
        "# Write a code to find the index of the element \"cat\" in the tuple ('dog', 'cat', 'rabbit').\n",
        "animal = ('dog', 'cat', 'rabbit')\n",
        "print(\"The index is:\", animal.index('cat'))"
      ],
      "metadata": {
        "colab": {
          "base_uri": "https://localhost:8080/"
        },
        "id": "wPPDCupn2RBN",
        "outputId": "6038e90d-588d-417d-f9e0-070570728686"
      },
      "execution_count": null,
      "outputs": [
        {
          "output_type": "stream",
          "name": "stdout",
          "text": [
            "The index is: 1\n"
          ]
        }
      ]
    },
    {
      "cell_type": "code",
      "source": [
        "# Write a code to create a tuple containing three different fruits and check if \"kiwi\" is in it.\n",
        "fruits = (\"apple\", \"mango\", \"grapes\")\n",
        "if \"kiwi\"  not in fruits:\n",
        "  print(\"it is true\")\n",
        "else:\n",
        "  print(\"it is false\")"
      ],
      "metadata": {
        "colab": {
          "base_uri": "https://localhost:8080/"
        },
        "id": "tQPase9v25Bu",
        "outputId": "3b63ad94-7052-4105-f455-38b9c1af2407"
      },
      "execution_count": null,
      "outputs": [
        {
          "output_type": "stream",
          "name": "stdout",
          "text": [
            "it is true\n"
          ]
        }
      ]
    },
    {
      "cell_type": "code",
      "source": [
        "# Write a code to create a set with the elements 'a', 'b', 'c' and print it.\n",
        "my_set = {\"a\", \"b\", \"c\"}\n",
        "print(my_set)"
      ],
      "metadata": {
        "colab": {
          "base_uri": "https://localhost:8080/"
        },
        "id": "q93QThSXrd4l",
        "outputId": "77290991-2f13-447d-e4db-e54bdf1133b6"
      },
      "execution_count": null,
      "outputs": [
        {
          "output_type": "stream",
          "name": "stdout",
          "text": [
            "{'c', 'b', 'a'}\n"
          ]
        }
      ]
    },
    {
      "cell_type": "code",
      "source": [
        "# Write a code to clear all elements from the set {1, 2, 3, 4, 5}.\n",
        "s1 = {1, 2, 3, 4, 5}\n",
        "print(s1)\n",
        "s1.clear()\n",
        "print(s1)"
      ],
      "metadata": {
        "colab": {
          "base_uri": "https://localhost:8080/"
        },
        "id": "vejkoPjasRe3",
        "outputId": "a2c7ec3c-b962-4947-85da-bf5cf883c5e4"
      },
      "execution_count": null,
      "outputs": [
        {
          "output_type": "stream",
          "name": "stdout",
          "text": [
            "{1, 2, 3, 4, 5}\n",
            "set()\n"
          ]
        }
      ]
    },
    {
      "cell_type": "code",
      "source": [
        "# Write a code to remove the element 4 from the set {1, 2, 3, 4}.\n",
        "s2 = {1, 2, 3, 4}\n",
        "s2.remove(4)\n",
        "print(s2)\n"
      ],
      "metadata": {
        "colab": {
          "base_uri": "https://localhost:8080/"
        },
        "id": "7Fg2X6zFtG2g",
        "outputId": "881eddae-ffbf-4716-c162-7f02a351b09c"
      },
      "execution_count": null,
      "outputs": [
        {
          "output_type": "stream",
          "name": "stdout",
          "text": [
            "{1, 2, 3}\n"
          ]
        }
      ]
    },
    {
      "cell_type": "code",
      "source": [
        "# Write a code to find the union of two sets {1, 2, 3} and {3, 4, 5}.\n",
        "A = {1, 2, 3}\n",
        "B = {3, 4, 5}\n",
        "C = A | B   # A union B\n",
        "print(C)"
      ],
      "metadata": {
        "colab": {
          "base_uri": "https://localhost:8080/"
        },
        "id": "qbRVsfSYthFC",
        "outputId": "71d8e348-f801-4763-a6b8-31b25f3837f6"
      },
      "execution_count": null,
      "outputs": [
        {
          "output_type": "stream",
          "name": "stdout",
          "text": [
            "{1, 2, 3, 4, 5}\n"
          ]
        }
      ]
    },
    {
      "cell_type": "code",
      "source": [
        "# Write a code to find the intersection of two sets {1, 2, 3} and {2, 3, 4}\n",
        "D = {1, 2, 3}\n",
        "E = {2, 3, 4}\n",
        "F = D & E\n",
        "print(F)"
      ],
      "metadata": {
        "colab": {
          "base_uri": "https://localhost:8080/"
        },
        "id": "cE598l8duyG_",
        "outputId": "264006e3-05c2-4d50-b783-f5dcd9a026c7"
      },
      "execution_count": null,
      "outputs": [
        {
          "output_type": "stream",
          "name": "stdout",
          "text": [
            "{2, 3}\n"
          ]
        }
      ]
    },
    {
      "cell_type": "code",
      "source": [
        "# Write a code to create a dictionary with the keys \"name\", \"age\", and \"city\", and print it.\n",
        "dict = {\"name\": \"Ayan\", \"age\": 28, \"city\": \"Kolkata\"}\n",
        "print(dict)"
      ],
      "metadata": {
        "colab": {
          "base_uri": "https://localhost:8080/"
        },
        "id": "HV9pIJJGvMuN",
        "outputId": "d662cd1b-c1ec-40da-b8bc-a2d4f2a892e5"
      },
      "execution_count": null,
      "outputs": [
        {
          "output_type": "stream",
          "name": "stdout",
          "text": [
            "{'name': 'Ayan', 'age': 28, 'city': 'Kolkata'}\n"
          ]
        }
      ]
    },
    {
      "cell_type": "code",
      "source": [
        "# Write a code to add a new key-value pair \"country\": \"USA\" to the dictionary {'name': 'John', 'age': 25}.\n",
        "d1 = {'name': 'John', 'age': 25}\n",
        "d1.update({\"country\": \"USA\"})\n",
        "print(d1)"
      ],
      "metadata": {
        "colab": {
          "base_uri": "https://localhost:8080/"
        },
        "id": "_Mrgufccv2HP",
        "outputId": "809d503c-45c0-460f-f9c1-483340e9a862"
      },
      "execution_count": null,
      "outputs": [
        {
          "output_type": "stream",
          "name": "stdout",
          "text": [
            "{'name': 'John', 'age': 25, 'country': 'USA'}\n"
          ]
        }
      ]
    },
    {
      "cell_type": "code",
      "source": [
        "# Write a code to access the value associated with the key \"name\" in the dictionary {'name': 'Alice', 'age': 30}\n",
        "D = {'name': 'Alice', 'age': 30}\n",
        "print(D[\"name\"])"
      ],
      "metadata": {
        "colab": {
          "base_uri": "https://localhost:8080/"
        },
        "id": "2gnUmiWlwsmY",
        "outputId": "c7e4a42e-4384-4d9d-a1b5-a13f96fe9538"
      },
      "execution_count": null,
      "outputs": [
        {
          "output_type": "stream",
          "name": "stdout",
          "text": [
            "Alice\n"
          ]
        }
      ]
    },
    {
      "cell_type": "code",
      "source": [
        "# Write a code to remove the key \"age\" from the dictionary {'name': 'Bob', 'age': 22, 'city': 'New York'}.\n",
        "dictionary = {'name': 'Bob', 'age': 22, 'city': 'New York'}\n",
        "dictionary.pop(\"age\")\n",
        "print(dictionary)"
      ],
      "metadata": {
        "colab": {
          "base_uri": "https://localhost:8080/"
        },
        "id": "8YJzhf-uxn2p",
        "outputId": "b86868c9-5aaf-44a8-c41a-bde0ee4f8b36"
      },
      "execution_count": null,
      "outputs": [
        {
          "output_type": "stream",
          "name": "stdout",
          "text": [
            "{'name': 'Bob', 'city': 'New York'}\n"
          ]
        }
      ]
    },
    {
      "cell_type": "code",
      "source": [
        "# Write a code to check if the key \"city\" exists in the dictionary {'name': 'Alice', 'city': 'Paris'}.\n",
        "dict = {\"name\": 'Alice', \"city\": 'Paris'}\n",
        "if \"city\" in dict:\n",
        "  print(\"It is exist in the dictionary\")\n",
        "else:\n",
        "  print(\"It is not exist in the dictionary\")"
      ],
      "metadata": {
        "colab": {
          "base_uri": "https://localhost:8080/"
        },
        "id": "cQlIz2y7zGyR",
        "outputId": "173d8b19-a860-4b9a-8d5d-68e46a62315f"
      },
      "execution_count": null,
      "outputs": [
        {
          "output_type": "stream",
          "name": "stdout",
          "text": [
            "It is exist in the dictionary\n"
          ]
        }
      ]
    },
    {
      "cell_type": "code",
      "source": [
        "# Write a code to create a list, a tuple, and a dictionary, and print them all.\n",
        "my_list = [5, 7.6, 3+5j, \"ayan\", \"data analytics\"]\n",
        "my_tuple = (5, 7.6, 3+5j, \"ayan\", \"data analytics\")\n",
        "my_dict  = {'name': 'Bob', 'age': 22, 'city': 'New York'}\n",
        "print(\"list:\", my_list)\n",
        "print(\"tuple:\", my_tuple)\n",
        "print(\"dictionary:\", my_dict)"
      ],
      "metadata": {
        "colab": {
          "base_uri": "https://localhost:8080/"
        },
        "id": "x8K8RShR03ua",
        "outputId": "8bc904f7-be7c-400b-accb-4f22dfc69f9a"
      },
      "execution_count": null,
      "outputs": [
        {
          "output_type": "stream",
          "name": "stdout",
          "text": [
            "list: [5, 7.6, (3+5j), 'ayan', 'data analytics']\n",
            "tuple: (5, 7.6, (3+5j), 'ayan', 'data analytics')\n",
            "dictionary: {'name': 'Bob', 'age': 22, 'city': 'New York'}\n"
          ]
        }
      ]
    },
    {
      "cell_type": "code",
      "source": [
        "# Write a code to create a list of 5 random numbers between 1 and 100, sort it in ascending order, and print the result(replaced).\n",
        "my_list = [55, 76, 29, 15, 89]\n",
        "my_list.sort()\n",
        "print(\"Ascending order is:\",my_list)"
      ],
      "metadata": {
        "colab": {
          "base_uri": "https://localhost:8080/"
        },
        "id": "xeQlu-2t3H6l",
        "outputId": "5034e610-4dff-4cbf-9625-91b75b2a43a0"
      },
      "execution_count": null,
      "outputs": [
        {
          "output_type": "stream",
          "name": "stdout",
          "text": [
            "Ascending order is: [15, 29, 55, 76, 89]\n"
          ]
        }
      ]
    },
    {
      "cell_type": "code",
      "source": [
        "# Write a code to create a list with strings and print the element at the third index.\n",
        "shopping_list = [\"Mango\", \"Banana\", \"Grapes\", \"Jackfruit\", \"Apple\"]\n",
        "print(\"The List is:\", shopping_list)\n",
        "print(shopping_list[0])\n",
        "print(shopping_list[1])\n",
        "print(shopping_list[2])\n",
        "print(shopping_list[3])\n",
        "print(shopping_list[-1])\n",
        "print(shopping_list[-2])   # Index 3 & -2 are the same element"
      ],
      "metadata": {
        "colab": {
          "base_uri": "https://localhost:8080/"
        },
        "id": "w1VwKJ5k4pqj",
        "outputId": "55596eae-e8ae-4bbe-9693-49e834bcfa41"
      },
      "execution_count": null,
      "outputs": [
        {
          "output_type": "stream",
          "name": "stdout",
          "text": [
            "The List is: ['Mango', 'Banana', 'Grapes', 'Jackfruit', 'Apple']\n",
            "Mango\n",
            "Banana\n",
            "Grapes\n",
            "Jackfruit\n",
            "Apple\n",
            "Jackfruit\n"
          ]
        }
      ]
    },
    {
      "cell_type": "code",
      "source": [
        "# Write a code to combine two dictionaries into one and print the result.\n",
        "D1 = {\"Name\": \"Ayan\", \"Email\": \"ayanmondal@gmail.com\", \"Age\": 28}\n",
        "D2 = {\"Course\": \"Data  analytics\", \"Time\": \"6 months\"}\n",
        "print(\"the 1st dictionary is:\",D1)\n",
        "print(\"the second dictionary is:\",D2)\n",
        "D1.update(D2)\n",
        "print(\"combine dictionary is:\",D1)"
      ],
      "metadata": {
        "colab": {
          "base_uri": "https://localhost:8080/"
        },
        "id": "UhFLmg9o6M6O",
        "outputId": "11ad30b6-ecd5-408d-9c67-83911a97237b"
      },
      "execution_count": null,
      "outputs": [
        {
          "output_type": "stream",
          "name": "stdout",
          "text": [
            "the 1st dictionary is: {'Name': 'Ayan', 'Email': 'ayanmondal@gmail.com', 'Age': 28}\n",
            "the second dictionary is: {'Course': 'Data  analytics', 'Time': '6 months'}\n",
            "combine dictionary is: {'Name': 'Ayan', 'Email': 'ayanmondal@gmail.com', 'Age': 28, 'Course': 'Data  analytics', 'Time': '6 months'}\n"
          ]
        }
      ]
    },
    {
      "cell_type": "code",
      "source": [
        "# Write a code to convert a list of strings into a set.\n",
        "my_list = [\"Ayan\", \"Pwskills\", \"Data Analytics\", \"Apple\"]\n",
        "my_set = set(my_list)\n",
        "print(my_list)\n",
        "print(my_set)"
      ],
      "metadata": {
        "colab": {
          "base_uri": "https://localhost:8080/"
        },
        "id": "84v99jLh8IeB",
        "outputId": "102fd7e0-c3b8-40a0-b709-f497f72b0a86"
      },
      "execution_count": null,
      "outputs": [
        {
          "output_type": "stream",
          "name": "stdout",
          "text": [
            "['Ayan', 'Pwskills', 'Data Analytics', 'Apple']\n",
            "{'Ayan', 'Data Analytics', 'Apple', 'Pwskills'}\n"
          ]
        }
      ]
    }
  ]
}